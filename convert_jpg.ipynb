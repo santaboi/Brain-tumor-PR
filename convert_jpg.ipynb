{
 "cells": [
  {
   "cell_type": "code",
   "execution_count": 1,
   "metadata": {},
   "outputs": [],
   "source": [
    "import pandas as pd\n",
    "from matplotlib import pyplot as plt\n",
    "import pydicom\n",
    "import numpy as np\n",
    "import os\n",
    "import cv2\n",
    "from cfg import *\n",
    "# from loader import read_xls\n"
   ]
  },
  {
   "cell_type": "code",
   "execution_count": 1,
   "metadata": {},
   "outputs": [
    {
     "data": {
      "text/plain": [
       "94132244638592"
      ]
     },
     "execution_count": 1,
     "metadata": {},
     "output_type": "execute_result"
    }
   ],
   "source": [
    "a = 3\n",
    "id(a)"
   ]
  },
  {
   "cell_type": "code",
   "execution_count": 2,
   "metadata": {},
   "outputs": [],
   "source": [
    "excel_data = pd.read_excel('./data/PSPF meningioma 20211005.xls', sheet_name=\"Sheet2\")\n",
    "# excel_data = read_xls()\n",
    "'''\n",
    "#ID : [T1 + C , T1 , T2 + C , FLAIR]\n",
    "non_dict = {ID : [(srs , img) , (srs , img) , (srs , img) , (srs , img)] }\n",
    "'''\n",
    "def appendd(id , non_dict , col_name):\n",
    "    srs, img = (excel_data.loc[index, col_name]).split(\"/\")\n",
    "    temp = int(srs), int(img)\n",
    "    non_dict[id].append(temp)"
   ]
  },
  {
   "cell_type": "code",
   "execution_count": 3,
   "metadata": {},
   "outputs": [
    {
     "name": "stdout",
     "output_type": "stream",
     "text": [
      "{12261283: [(10, 16), (7, 16), (3, 16), (5, 16)], 13488672: [(72, 14), (6, 14), (5, 15), (4, 15)], 15176128: [(12, 15), (10, 15), (3, 15), (5, 15)], 15525495: [(9, 19), (6, 19), (2, 20), (5, 19)], 15552568: [(1001, 17), (701, 17), (901, 17), (601, 17)], 16962871: [(13, 13), (6, 13), (4, 13), (5, 13)], 17244854: [(27, 17), (5, 18), (10, 18), (6, 18)], 18456622: [(16, 18), (6, 18), (5, 18), (4, 18)], 19315335: [(17, 18), (10, 18), (8, 18), (6, 18)], 19425238: [(12, 17), (8, 17), (3, 17), (7, 17)], 20947834: [(9, 17), (5, 17), (2, 17), (3, 17)], 21105320: [(17, 18), (6, 18), (5, 18), (4, 18)], 21372392: [(11, 14), (7, 15), (4, 15), (6, 14)], 21381973: [(11, 19), (7, 18), (5, 19), (6, 19)], 22296689: [(22, 15), (6, 15), (5, 15), (4, 15)], 25385854: [(16, 21), (9, 21), (5, 21), (4, 21)], 25825974: [(8, 20), (4, 19), (2, 20), (3, 19)], 26073373: [(8, 17), (5, 17), (2, 17), (4, 17)], 26082459: [(9, 19), (5, 20), (2, 20), (4, 19)], 26434694: [(13, 17), (8, 17), (4, 18), (6, 18)], 26658418: [(13, 16), (10, 16), (4, 16), (5, 16)], 27103788: [(13, 19), (8, 19), (4, 19), (5, 19)], 27237207: [(11, 13), (5, 13), (3, 13), (4, 14)], 27472711: [(11, 16), (7, 16), (3, 16), (6, 16)], 27607264: [(17, 14), (9, 14), (4, 14), (8, 14)], 27710844: [(11, 17), (8, 17), (6, 17), (7, 17)], 27931321: [(11, 21), (5, 21), (3, 22), (4, 22)], 28248060: [(16, 16), (9, 16), (6, 16), (5, 17)], 28267864: [(11, 14), (6, 14), (4, 14), (5, 14)], 28358688: [(10, 20), (7, 20), (5, 20), (4, 21)], 29285707: [(13, 22), (6, 22), (3, 22), (5, 22)], 29301889: [(16, 20), (4, 20), (5, 20), (7, 20)], 29729120: [(8, 23), (4, 22), (2, 22), (3, 22)], 29816081: [(18, 20), (11, 20), (3, 20), (7, 20)], 30517836: [(17, 14), (10, 15), (8, 15), (6, 15)], 30732894: [(17, 18), (7, 18), (5, 18), (4, 18)], 30871154: [(14, 18), (7, 18), (5, 18), (4, 18)], 30920239: [(11, 21), (5, 21), (6, 21), (7, 21)], 31001430: [(11, 22), (5, 22), (6, 22), (7, 22)], 31046225: [(11, 18), (5, 18), (6, 18), (7, 18)], 31406726: [(10, 15), (3, 15), (5, 16), (4, 16)], 31445157: [(13, 17), (12, 17), (3, 18), (11, 18)], 52847319: [(11, 20), (5, 21), (6, 20), (7, 20)], 33056266: [(18, 15), (8, 16), (3, 16), (7, 16)]}\n",
      "******************************************************\n",
      "{10027124: [(10, 18), (6, 19), (4, 19), (5, 19)], 11009708: [(11, 19), (5, 19), (3, 19), (4, 19)], 11775010: [(17, 14), (13, 14), (12, 14), (14, 14)], 13661917: [(11, 9), (5, 9), (4, 9), (2, 9)], 14041674: [(17, 16), (7, 16), (4, 16), (6, 16)], 16113441: [(12, 15), (6, 15), (4, 15), (5, 15)], 18765851: [(13, 17), (7, 17), (6, 17), (5, 17)], 20483981: [(9, 20), (4, 19), (2, 20), (3, 20)], 26608196: [(12, 19), (8, 19), (4, 19), (5, 19)], 29177415: [(14, 19), (12, 19), (4, 19), (11, 19)], 30268702: [(15, 19), (13, 19), (5, 19), (11, 19)], 24237245: [(12, 8), (6, 8), (4, 8), (5, 8)], 80190941: [(21, 13), (19, 13), (4, 13), (8, 13)]}\n"
     ]
    }
   ],
   "source": [
    "non_dict = {}\n",
    "pr_dict = {}\n",
    "for index in range(0 , excel_data.shape[0]) :\n",
    "    ## naming\n",
    "    id = excel_data.loc[index, \"病歷號 (yellow in WHO grade I file) \"]\n",
    "    pr_status = excel_data.loc[index, \"Progression/Recurrence (Yes:1 No:0)\"]\n",
    "    if not pr_status :\n",
    "        non_dict[id] = []\n",
    "        appendd(id , non_dict , \"T1+C (srs/img)\")\n",
    "        appendd(id, non_dict, \"T1 (srs/img)\")\n",
    "        appendd(id, non_dict, \"T2 (srs/img)\")\n",
    "        appendd(id, non_dict, \"FLAIR (srs/img)\")\n",
    "    else :\n",
    "        pr_dict[id] = []\n",
    "        appendd(id, pr_dict, \"T1+C (srs/img)\")\n",
    "        appendd(id, pr_dict, \"T1 (srs/img)\")\n",
    "        appendd(id, pr_dict, \"T2 (srs/img)\")\n",
    "        appendd(id, pr_dict, \"FLAIR (srs/img)\")\n",
    "    \n",
    "print(non_dict)\n",
    "print(\"******************************************************\")\n",
    "print(pr_dict)\n",
    "    \n",
    "\n"
   ]
  },
  {
   "cell_type": "code",
   "execution_count": 28,
   "metadata": {},
   "outputs": [],
   "source": [
    "#non pr block \n",
    "def convert(ds,store_path , img_type) :\n",
    "    pixel_array_numpy = ds.pixel_array.astype(float)\n",
    "    rescaled_img = (np.maximum(pixel_array_numpy, 0) /pixel_array_numpy.max()) * 255\n",
    "    # image = image.replace('.dcm', '.jpg')\n",
    "\n",
    "    cv2.imwrite(os.path.join(store_path, f'{img_type}.jpg'), rescaled_img)\n",
    "        \n",
    "\n",
    "folder_path = \"./data/PSPF meningioma 20210904/non PR\"\n",
    "jpg_folder_path = \"./data/PSPF meningioma 20210904/non_PR_jpg\"\n",
    "\n",
    "error_patient = []\n",
    "for patient_id in os.listdir(folder_path) :\n",
    "    if patient_id in ['16962871', '14185785']: continue\n",
    "    patient_path = os.path.join(folder_path , patient_id)\n",
    "    picture_count = set()\n",
    "    \n",
    "    \n",
    "    store_path = jpg_folder_path + '/' + patient_id #+ \"/T1\"\n",
    "    os.makedirs(store_path)\n",
    "\n",
    "    for n, image in enumerate(os.listdir(patient_path)):\n",
    "        ds = pydicom.dcmread(os.path.join(patient_path , image))\n",
    "        #non _dict (every image should be judged 4 times)\n",
    "        T1 = non_dict[int(patient_id)][0]\n",
    "        T1c = non_dict[int(patient_id)][1]\n",
    "        T2 = non_dict[int(patient_id)][2]\n",
    "        Flair = non_dict[int(patient_id)][3]\n",
    "        \n",
    "        if ds.SeriesNumber == T1[0] and ds.InstanceNumber == T1[1]:\n",
    "            convert(ds, store_path , 'T1')\n",
    "            picture_count.add('T1')\n",
    "        if ds.SeriesNumber == T1c[0] and ds.InstanceNumber == T1c[1]:\n",
    "            convert(ds, store_path, 'T1c')\n",
    "            picture_count.add('T1c')\n",
    "        if ds.SeriesNumber == T2[0] and ds.InstanceNumber == T2[1]:\n",
    "            convert(ds, store_path, 'T2')\n",
    "            picture_count.add('T2')\n",
    "        if ds.SeriesNumber == Flair[0] and ds.InstanceNumber == Flair[1]:\n",
    "            convert(ds, store_path, 'Flair')\n",
    "            picture_count.add('Flair')\n",
    "        '''\n",
    "        pixel_array_numpy = ds.pixel_array.astype(float)\n",
    "        rescaled_img = (np.maximum(pixel_array_numpy, 0) /\n",
    "                        pixel_array_numpy.max()) * 255\n",
    "        image = image.replace('.dcm', '.jpg')\n",
    "        cv2.imwrite(os.path.join(jpg_folder_path, image), rescaled_img)\n",
    "        '''\n",
    "    if len(picture_count) != 4 :\n",
    "        error_patient.append(patient_id)\n",
    "    # if patient_id=='16962871':\n",
    "    #     print(picture_count)\n",
    "    \n",
    "if error_patient != [] :\n",
    "    print(error_patient)"
   ]
  },
  {
   "cell_type": "markdown",
   "metadata": {},
   "source": [
    "16962871 少一張"
   ]
  },
  {
   "cell_type": "code",
   "execution_count": 24,
   "metadata": {},
   "outputs": [],
   "source": [
    "#PR block\n",
    "dcm_folder_path = \"./data/PSPF meningioma 20210904/PR\"\n",
    "jpg_folder_path = \"./data/PSPF meningioma 20210904/PR_jpg\"\n",
    "\n",
    "error_patient = []\n",
    "for patient_id in os.listdir(dcm_folder_path):\n",
    "    patient_path = os.path.join(dcm_folder_path, patient_id)\n",
    "    picture_count = set()\n",
    "    \n",
    "    store_path = jpg_folder_path + '/' + patient_id\n",
    "    os.makedirs(store_path)\n",
    "    \n",
    "    for n, image in enumerate(os.listdir(patient_path)):\n",
    "        ds = pydicom.dcmread(os.path.join(patient_path, image), force=True)\n",
    "        \n",
    "        T1 = pr_dict[int(patient_id)][0]\n",
    "        T1c = pr_dict[int(patient_id)][1]\n",
    "        T2 = pr_dict[int(patient_id)][2]\n",
    "        Flair = pr_dict[int(patient_id)][3]\n",
    "        try :\n",
    "            if ds.SeriesNumber == T1[0] and ds.InstanceNumber == T1[1]:\n",
    "                # store_path = jpg_folder_path + '/' + patients + \"/T1\"\n",
    "                # os.makedirs(store_path)\n",
    "                convert(ds, store_path, 'T1')\n",
    "                picture_count.add('T1')\n",
    "            if ds.SeriesNumber == T1c[0] and ds.InstanceNumber == T1c[1]:\n",
    "                # store_path = jpg_folder_path + '/' + patients + \"/T1c\"\n",
    "                # os.makedirs(store_path)\n",
    "                convert(ds, store_path, 'T1c')\n",
    "                picture_count.add('T1c')\n",
    "            if ds.SeriesNumber == T2[0] and ds.InstanceNumber == T2[1]:\n",
    "                # store_path = jpg_folder_path + '/' + patients + \"/T2\"\n",
    "                # os.makedirs(store_path)\n",
    "                convert(ds, store_path, 'T2')\n",
    "                picture_count.add('T2')\n",
    "            if ds.SeriesNumber == Flair[0] and ds.InstanceNumber == Flair[1]:\n",
    "                # store_path = jpg_folder_path + '/' + patients + \"/Flair\"\n",
    "                # os.makedirs(store_path)\n",
    "                convert(ds, store_path, 'Flair')\n",
    "                picture_count.add('Flair')\n",
    "        except :\n",
    "            error_patient.append(patient_id)\n",
    "        \n",
    "    if len(picture_count) != 4:\n",
    "        error_patient.append(patient_id)\n",
    "\n",
    "if error_patient != []:\n",
    "    print(error_patient)\n"
   ]
  },
  {
   "cell_type": "code",
   "execution_count": 9,
   "metadata": {},
   "outputs": [
    {
     "data": {
      "text/plain": [
       "[]"
      ]
     },
     "execution_count": 9,
     "metadata": {},
     "output_type": "execute_result"
    }
   ],
   "source": [
    "error_patient"
   ]
  },
  {
   "cell_type": "markdown",
   "metadata": {},
   "source": [
    "patient 14185785 缺excel data\n"
   ]
  }
 ],
 "metadata": {
  "interpreter": {
   "hash": "0ca4c4a944c5f49270194245eb7df4dee1b644ce1113c4c8792da3820b65649c"
  },
  "kernelspec": {
   "display_name": "Python 3.6.13 64-bit ('chemei-pr': conda)",
   "name": "python3"
  },
  "language_info": {
   "codemirror_mode": {
    "name": "ipython",
    "version": 3
   },
   "file_extension": ".py",
   "mimetype": "text/x-python",
   "name": "python",
   "nbconvert_exporter": "python",
   "pygments_lexer": "ipython3",
   "version": "3.6.13"
  },
  "orig_nbformat": 4
 },
 "nbformat": 4,
 "nbformat_minor": 2
}
